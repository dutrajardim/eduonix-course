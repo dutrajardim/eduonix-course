{
 "cells": [
  {
   "cell_type": "code",
   "execution_count": 23,
   "metadata": {},
   "outputs": [
    {
     "name": "stdout",
     "output_type": "stream",
     "text": [
      "How many games would you like to play?a\n",
      "How many games would you like to play?1\n",
      "Select a number betwee 1 and 25:a\n",
      "The answer must be a number!\n",
      "Select a number betwee 1 and 25:10\n",
      "The number is higher!\n",
      "Select a number betwee 1 and 25:15\n",
      "The number is higher!\n",
      "Select a number betwee 1 and 25:20\n",
      "The number is higher!\n",
      "Select a number betwee 1 and 25:\n",
      "The answer must be a number!\n",
      "Select a number betwee 1 and 25:25\n",
      "The number is lower!\n",
      "Select a number betwee 1 and 25:23\n",
      "5\n"
     ]
    }
   ],
   "source": [
    "# 1 Create a script that will ask the user how many games they would like to play\n",
    "# 2 For every game, ask the player to select a random number between 1 - 25\n",
    "# 3 Inform player if the number is higher or lower\n",
    "# 4 Build a loop statement that will iterate number of games and numbers picked\n",
    "# 5 When user guesses right, tell them how many guesses it took.\n",
    "\n",
    "import random\n",
    "\n",
    "def askHowManyGames():\n",
    "    answer = input(\"How many games would you like to play?\")\n",
    "    try: return int(answer)\n",
    "    except: return askHowManyGames()\n",
    "\n",
    "# 4 Can be it considered a loop statement?\n",
    "def askPlayerToSelect(randomNumber):\n",
    "    try:\n",
    "        answer = int(input(\"Select a number betwee 1 and 25:\"))\n",
    "        if answer == randomNumber:\n",
    "            return 1\n",
    "        elif answer > randomNumber:\n",
    "            print(\"The number is lower!\")\n",
    "        elif answer < randomNumber:\n",
    "            print(\"The number is higher!\")\n",
    "\n",
    "        return 1 + askPlayerToSelect(randomNumber)\n",
    "    except: \n",
    "        print(\"The answer must be a number!\")\n",
    "        return askPlayerToSelect(randomNumber)\n",
    "\n",
    "gamesQtd = askHowManyGames()\n",
    "\n",
    "for gameNumber in range(1, gamesQtd + 1):\n",
    "    randomNumber = random.randint(1, 25)\n",
    "    guesses = askPlayerToSelect(randomNumber)\n",
    "    print(guesses)\n"
   ]
  }
 ],
 "metadata": {
  "kernelspec": {
   "display_name": "Python 3",
   "language": "python",
   "name": "python3"
  },
  "language_info": {
   "codemirror_mode": {
    "name": "ipython",
    "version": 3
   },
   "file_extension": ".py",
   "mimetype": "text/x-python",
   "name": "python",
   "nbconvert_exporter": "python",
   "pygments_lexer": "ipython3",
   "version": "3.7.3"
  }
 },
 "nbformat": 4,
 "nbformat_minor": 2
}
