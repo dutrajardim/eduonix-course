{
 "cells": [
  {
   "cell_type": "code",
   "execution_count": null,
   "metadata": {},
   "outputs": [],
   "source": [
    "# 1 Create a script that will ask the user how many games they would like to play\n",
    "\n",
    "# 2 For every game, ask the player to select a random number between 1 - 25\n",
    "\n",
    "# 3 Inform player if the number is higher or lower\n",
    "\n",
    "# 4 Build a loop statement that will iterate number of games and numbers picked\n",
    "\n",
    "# 5 When user guesses right, tell them how many guesses it took."
   ]
  }
 ],
 "metadata": {
  "kernelspec": {
   "display_name": "Python 3",
   "language": "python",
   "name": "python3"
  },
  "language_info": {
   "codemirror_mode": {
    "name": "ipython",
    "version": 3
   },
   "file_extension": ".py",
   "mimetype": "text/x-python",
   "name": "python",
   "nbconvert_exporter": "python",
   "pygments_lexer": "ipython3",
   "version": "3.7.3"
  }
 },
 "nbformat": 4,
 "nbformat_minor": 2
}
